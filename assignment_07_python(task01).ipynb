{
 "cells": [
  {
   "cell_type": "markdown",
   "id": "c9b355b2",
   "metadata": {},
   "source": [
    "#### Q1. Create a function which will take a list as an argument and return the product of all the numbers after creating a flat list. Use the below-given list as an argument for your function."
   ]
  },
  {
   "cell_type": "code",
   "execution_count": 1,
   "id": "f9cf7ce2",
   "metadata": {},
   "outputs": [],
   "source": [
    "list1 = [1,2,3,4, [44,55,66, True], False, (34,56,78,89,34), {1,2,3,3,2,1}, {1:34, \"key2\": [55, 67, 78, 89], 4: (45,\n",
    "22, 61, 34)}, [56, 'data science'], 'Machine Learning']"
   ]
  },
  {
   "cell_type": "code",
   "execution_count": 8,
   "id": "9b78a5e8",
   "metadata": {},
   "outputs": [
    {
     "name": "stdout",
     "output_type": "stream",
     "text": [
      "Integers: [1, 2, 3, 1, 44, 55, 66, 34, 56, 78, 89, 34, 1, 2, 3, 1, 34, 55, 67, 78, 89, 4, 45, 22, 61, 34, 56]\n",
      "Product of Integers: 1033677959746771369708460310528000\n"
     ]
    }
   ],
   "source": [
    "def extract_integers(data):\n",
    "    integers = []\n",
    "\n",
    "    if isinstance(data, int) and not isinstance(data, bool):\n",
    "        integers.append(data)\n",
    "    elif isinstance(data, list) or isinstance(data, tuple):\n",
    "        for item in data:\n",
    "            integers.extend(extract_integers(item))\n",
    "    elif isinstance(data, dict):\n",
    "        for key, value in data.items():\n",
    "            integers.extend(extract_integers(key))\n",
    "            integers.extend(extract_integers(value))\n",
    "    elif isinstance(data, set):\n",
    "        for item in data:\n",
    "            integers.extend(extract_integers(item))\n",
    "\n",
    "\n",
    "    return integers\n",
    "\n",
    "def calculate_product(integers):\n",
    "    product = 1\n",
    "    for num in integers:\n",
    "        product *= num\n",
    "    return product\n",
    "\n",
    "data = [1, 2, 3, 1, [44, 55, 66, True], False, (34, 56, 78, 89, 34), {1, 2, 3, 3, 2, 1}, {1: 34, \"key2\": [55, 67, 78, 89], 4: (45, 22, 61, 34)}, [56, \"data science\"], \"machine learning\"]\n",
    "p = extract_integers(data)\n",
    "product = calculate_product(p)\n",
    "\n",
    "print(\"Integers:\", p)\n",
    "print(\"Product of Integers:\", product)"
   ]
  },
  {
   "cell_type": "markdown",
   "id": "1702becf",
   "metadata": {},
   "source": [
    "##### Q2. Write a python program for encrypting a message sent to you by your friend. The logic of encryptionshould be such that, for a the output should be z. For b, the output should be y. For c, the output should be x respectively. Also, the whitespace should be replaced with a dollar sign. Keep the punctuation marks unchanged. Input Sentence: I want to become a Data Scientist. Encrypt the above input sentence using the program you just created. Note: Convert the given input sentence into lowercase before encrypting. The final output should be lowercase."
   ]
  },
  {
   "cell_type": "code",
   "execution_count": 11,
   "id": "4fbe10c3",
   "metadata": {},
   "outputs": [
    {
     "name": "stdout",
     "output_type": "stream",
     "text": [
      "r$dzmg$gl$yvxlnv$z$wzgz$hxrvmgrhg.\n"
     ]
    }
   ],
   "source": [
    "def encrypt_message(message):\n",
    "    # Define a mapping of characters to their encrypted counterparts\n",
    "    char_map = {\n",
    "        'a': 'z', 'b': 'y', 'c': 'x', 'd': 'w', 'e': 'v',\n",
    "        'f': 'u', 'g': 't', 'h': 's', 'i': 'r', 'j': 'q',\n",
    "        'k': 'p', 'l': 'o', 'm': 'n', 'n': 'm', 'o': 'l',\n",
    "        'p': 'k', 'q': 'j', 'r': 'i', 's': 'h', 't': 'g',\n",
    "        'u': 'f', 'v': 'e', 'w': 'd', 'x': 'c', 'y': 'b',\n",
    "        'z': 'a', ' ': '$'  \n",
    "    }\n",
    "\n",
    "    message = message.lower()\n",
    "    encrypted_message = ''\n",
    "    for char in message:\n",
    "        if char in char_map:\n",
    "            encrypted_message += char_map[char]\n",
    "        else:\n",
    "            encrypted_message += char  # Keep punctuation marks unchanged\n",
    "\n",
    "    return encrypted_message\n",
    "\n",
    "input_sentence = \"I want to become a Data Scientist.\"\n",
    "\n",
    "encrypted_sentence = encrypt_message(input_sentence)\n",
    "\n",
    "print(encrypted_sentence)"
   ]
  },
  {
   "cell_type": "code",
   "execution_count": null,
   "id": "2a5e7d40",
   "metadata": {},
   "outputs": [],
   "source": []
  }
 ],
 "metadata": {
  "kernelspec": {
   "display_name": "Python 3 (ipykernel)",
   "language": "python",
   "name": "python3"
  },
  "language_info": {
   "codemirror_mode": {
    "name": "ipython",
    "version": 3
   },
   "file_extension": ".py",
   "mimetype": "text/x-python",
   "name": "python",
   "nbconvert_exporter": "python",
   "pygments_lexer": "ipython3",
   "version": "3.9.13"
  }
 },
 "nbformat": 4,
 "nbformat_minor": 5
}
